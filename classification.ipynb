{
 "cells": [
  {
   "cell_type": "code",
   "execution_count": 78,
   "id": "721f2fce",
   "metadata": {},
   "outputs": [],
   "source": [
    "import warnings\n",
    "warnings.filterwarnings('ignore')"
   ]
  },
  {
   "cell_type": "code",
   "execution_count": 79,
   "id": "a3905056",
   "metadata": {},
   "outputs": [],
   "source": [
    "from sklearn.datasets import fetch_20newsgroups\n",
    "from sklearn.metrics import accuracy_score\n",
    "\n",
    "import numpy as np\n",
    "import scipy\n",
    "import re\n",
    "\n",
    "import matplotlib.pyplot as plt\n",
    "%matplotlib inline\n",
    "\n",
    "import collections\n",
    "\n",
    "import torch\n",
    "from torch import nn\n",
    "from torch.nn import functional as F\n",
    "from torch.utils.data import DataLoader\n",
    "\n",
    "import copy\n",
    "import traceback\n",
    "import datetime\n",
    "\n",
    "# import dlnlputils\n",
    "# from dlnlputils.data import tokenize_text_simple_regex, tokenize_corpus, build_vocabulary, \\\n",
    "#     vectorize_texts, SparseFeaturesDataset\n",
    "# from dlnlputils.pipeline import train_eval_loop, predict_with_model, init_random_seed\n",
    "\n",
    "# init_random_seed()\n",
    "\n"
   ]
  },
  {
   "cell_type": "markdown",
   "id": "2f87a02e",
   "metadata": {},
   "source": [
    "# Предподготовка текстов и признаков"
   ]
  },
  {
   "cell_type": "code",
   "execution_count": 80,
   "id": "75ff8a03",
   "metadata": {},
   "outputs": [],
   "source": [
    "train_source = fetch_20newsgroups(subset='train')\n",
    "test_source = fetch_20newsgroups(subset='test')"
   ]
  },
  {
   "cell_type": "code",
   "execution_count": 81,
   "id": "11bcba2d",
   "metadata": {},
   "outputs": [
    {
     "name": "stdout",
     "output_type": "stream",
     "text": [
      "Количество обучающих текстов 11314\n",
      "Количество тестовых текстов 7532\n"
     ]
    }
   ],
   "source": [
    "print(f'Количество обучающих текстов {len(train_source['data'])}')\n",
    "print(f'Количество тестовых текстов {len(test_source['data'])}')"
   ]
  },
  {
   "cell_type": "code",
   "execution_count": 82,
   "id": "921a35fe",
   "metadata": {},
   "outputs": [
    {
     "name": "stdout",
     "output_type": "stream",
     "text": [
      "From: lerxst@wam.umd.edu (where's my thing)\n",
      "Subject: WHAT car is this!?\n",
      "Nntp-Posting-Host: rac3.wam.umd.edu\n",
      "Organization: University of Maryland, College Park\n",
      "Lines: 15\n",
      "\n",
      " I was wondering if anyone out there could enlighten me on this car I saw\n",
      "the other day. It was a 2-door sports car, looked to be from the late 60s/\n",
      "early 70s. It was called a Bricklin. The doors were really small. In addition,\n",
      "the front bumper was separate from the rest of the body. This is \n",
      "all I know. If anyone can tellme a model name, engine specs, years\n",
      "of production, where this car is made, history, or whatever info you\n",
      "have on this funky looking car, please e-mail.\n",
      "\n",
      "Thanks,\n",
      "- IL\n",
      "   ---- brought to you by your neighborhood Lerxst ----\n"
     ]
    }
   ],
   "source": [
    "print(train_source['data'][0].strip())"
   ]
  },
  {
   "cell_type": "code",
   "execution_count": 83,
   "id": "01ce9f73",
   "metadata": {},
   "outputs": [
    {
     "name": "stdout",
     "output_type": "stream",
     "text": [
      "Метка 7\n"
     ]
    }
   ],
   "source": [
    "print(f'Метка {train_source['target'][0]}')"
   ]
  },
  {
   "cell_type": "markdown",
   "id": "0d6f250a",
   "metadata": {},
   "source": [
    "## Подготовка признаков"
   ]
  },
  {
   "cell_type": "code",
   "execution_count": 84,
   "id": "3689fa83",
   "metadata": {},
   "outputs": [],
   "source": [
    "TOKEN_RE = re.compile(r'[\\w\\d]+')\n",
    "\n",
    "def tokenize_text_simpleregex(txt, min_token_size=4):\n",
    "    txt = txt.lower()\n",
    "    all_tokens = TOKEN_RE.findall(txt)\n",
    "    return [token for token in all_tokens if len(token) >= min_token_size]\n",
    "\n",
    "\n",
    "def tokenize_corpus(texts, tokenizer=tokenize_text_simpleregex, **tokenizer_kwargs):\n",
    "    return [tokenizer(text, **tokenizer_kwargs) for text in texts]"
   ]
  },
  {
   "cell_type": "code",
   "execution_count": 85,
   "id": "62e313b6",
   "metadata": {},
   "outputs": [],
   "source": [
    "train_tokenized = tokenize_corpus(train_source['data'])\n",
    "test_tokenized = tokenize_corpus(test_source['data'])"
   ]
  },
  {
   "cell_type": "code",
   "execution_count": 86,
   "id": "4e734475",
   "metadata": {},
   "outputs": [
    {
     "name": "stdout",
     "output_type": "stream",
     "text": [
      "from lerxst where thing subject what this nntp posting host rac3 organization university maryland college park lines wondering anyone there could enlighten this other door sports looked from late early called bricklin doors were really small addition front bumper separate from rest body this know anyone tellme model name engine specs years production where this made history whatever info have this funky looking please mail thanks brought your neighborhood lerxst\n"
     ]
    }
   ],
   "source": [
    "print(' '.join(train_tokenized[0]))"
   ]
  },
  {
   "cell_type": "code",
   "execution_count": 87,
   "id": "8e867f53",
   "metadata": {},
   "outputs": [],
   "source": [
    "def build_vocabulary(tokenized_texts: list[list], max_size: int = 1000000, max_doc_freq: float = 0.8, min_count: int = 5, pad_word = None):\n",
    "    word_counts = collections.defaultdict(int)\n",
    "    doc_n = 0\n",
    "\n",
    "    # посчитать количество документов, в которых употребляется каждое слово, а также количество документов\n",
    "    for txt in tokenized_texts:\n",
    "        doc_n += 1\n",
    "        unique_text_tokens = set(txt)\n",
    "        for token in unique_text_tokens:\n",
    "            word_counts[token] += 1\n",
    "\n",
    "    # удалить слишком редкие и слишком частые слова\n",
    "    word_counts = {word : cnt for word, cnt in word_counts.items() \n",
    "                   if cnt >= min_count and cnt / doc_n <= max_doc_freq}\n",
    "    \n",
    "    # отсортируем слова по убыванию частоты\n",
    "    sorted_word_couts = sorted(word_counts.items(), reverse=True, key=lambda pair: pair[1])\n",
    "\n",
    "    # добавим несуществующее слово с индексом 0 для удобства пакетной обработки\n",
    "    if pad_word is not None:\n",
    "        sorted_word_couts = [(pad_word, 0)] + sorted_word_couts\n",
    "\n",
    "    # если у нас по-прежнему слишком много слов, оставить только max_size самых частых слов\n",
    "    if len(word_counts) > max_size:\n",
    "        sorted_word_couts = sorted_word_couts[:max_size]\n",
    "    \n",
    "    # нумеруем слова\n",
    "    word2id = {word: i for i, (word, _) in enumerate(sorted_word_couts)}\n",
    "\n",
    "    # нормируем частоты слов\n",
    "    word2freq = np.array([cnt / doc_n for _, cnt in sorted_word_couts], dtype='float32')\n",
    "\n",
    "    return word2id, word2freq\n",
    "        \n",
    "\n"
   ]
  },
  {
   "cell_type": "code",
   "execution_count": 191,
   "id": "d1ca4fce",
   "metadata": {},
   "outputs": [
    {
     "name": "stdout",
     "output_type": "stream",
     "text": [
      "Количество уникальных токенов 0\n"
     ]
    }
   ],
   "source": [
    "MAX_DF = 0.8\n",
    "MIN_COUNT = 5\n",
    "\n",
    "vocabulary, word_doc_freq = build_vocabulary(train_tokenized, \n",
    "                                             max_doc_freq=MAX_DF, \n",
    "                                             min_count=MIN_COUNT)\n",
    "\n",
    "UNIQUE_WORDS_N = len(vocabulary)\n",
    "\n",
    "print(f'Количество уникальных токенов {UNIQUE_WORDS_N}')"
   ]
  },
  {
   "cell_type": "code",
   "execution_count": 89,
   "id": "545b91ad",
   "metadata": {},
   "outputs": [
    {
     "name": "stdout",
     "output_type": "stream",
     "text": [
      "[('that', 0), ('this', 1), ('have', 2), ('with', 3), ('writes', 4), ('article', 5), ('posting', 6), ('host', 7), ('nntp', 8), ('there', 9)]\n"
     ]
    }
   ],
   "source": [
    "print(list(vocabulary.items())[:10])"
   ]
  },
  {
   "cell_type": "code",
   "execution_count": 90,
   "id": "81e362eb",
   "metadata": {},
   "outputs": [
    {
     "data": {
      "image/png": "[encoded data removed]",
      "text/plain": [
       "<Figure size 640x480 with 1 Axes>"
      ]
     },
     "metadata": {},
     "output_type": "display_data"
    }
   ],
   "source": [
    "plt.hist(word_doc_freq, bins=20)\n",
    "plt.title(\"Распределение относительных частот слов\")\n",
    "plt.yscale('log')"
   ]
  },
  {
   "cell_type": "code",
   "execution_count": 91,
   "id": "cccaac0c",
   "metadata": {},
   "outputs": [],
   "source": [
    "def vectorize_texts(tokenized_texts, word2id, word2freq, mode='tfidf', scale=True):\n",
    "    assert mode in {'tfidf', 'idf', 'tf', 'bin'}\n",
    "\n",
    "    # считаем количество употреблений каждого слова в каждом документе\n",
    "    result = scipy.sparse.dok_matrix((len(tokenized_texts), len(word2id)), dtype='float32')\n",
    "    for text_i, text in enumerate(tokenized_texts):\n",
    "        for token in text:\n",
    "            if token in word2id:\n",
    "                result[text_i, word2id[token]] += 1\n",
    "\n",
    "    # получаем бинарные вектора \"встречается или нет\"\n",
    "    if mode == 'bin':\n",
    "        result = (result > 0).astype('float32')\n",
    "\n",
    "    # получаем вектора относительных частот слов в документы\n",
    "    elif mode == 'tf':\n",
    "        result = result.tocsr() # формат csr обеспечивает эффективные операции над строками матриц (но не эффективен для операций над столбцами)\n",
    "        result = result.multiply(1 / result.sum(1))\n",
    "\n",
    "    # полностью убираем информацию о количестве употребления слова в данном документе,\n",
    "    # но оставляем информацию о частотности слов в корпусе в целом\n",
    "    elif mode == 'idf':\n",
    "        result = (result > 0).astype('float32').multiply(1 / word2freq)\n",
    "\n",
    "    # учитываем всю информацию которая есть:\n",
    "    # частоту слова в документе и частоту слов в корпусе\n",
    "    elif mode == 'tfidf':\n",
    "        result = result.tocsr()\n",
    "        result = result.multiply(1 / result.sum(1)) # разделить каждую строку на ее длину\n",
    "        result = result.multiply(1 / word2freq) # разделтить каждый столбец на вес слова\n",
    "\n",
    "    if scale:\n",
    "        result = result.tocsc()\n",
    "        result -= result.min()\n",
    "        result /= (result.max() + 1e-6)\n",
    "\n",
    "    return result.tocsr()"
   ]
  },
  {
   "cell_type": "code",
   "execution_count": 92,
   "id": "3509feb1",
   "metadata": {},
   "outputs": [],
   "source": [
    "VECTORIZATION_MODE = 'tfidf'\n",
    "\n",
    "train_vectors = vectorize_texts(train_tokenized, vocabulary, word_doc_freq, mode=VECTORIZATION_MODE)\n",
    "test_vectors = vectorize_texts(test_tokenized, vocabulary, word_doc_freq, mode=VECTORIZATION_MODE)\n"
   ]
  },
  {
   "cell_type": "code",
   "execution_count": 93,
   "id": "7b566ee7",
   "metadata": {},
   "outputs": [
    {
     "name": "stdout",
     "output_type": "stream",
     "text": [
      "Размерность матрицы признаков обучающей выборки - (11314, 21628)\n",
      "Размерность матрицы признаков тестовой выборки - (7532, 21628)\n"
     ]
    }
   ],
   "source": [
    "print(f'Размерность матрицы признаков обучающей выборки - {train_vectors.shape}')\n",
    "print(f'Размерность матрицы признаков тестовой выборки - {test_vectors.shape}')"
   ]
  },
  {
   "cell_type": "code",
   "execution_count": 94,
   "id": "e72e6d29",
   "metadata": {},
   "outputs": [
    {
     "name": "stdout",
     "output_type": "stream",
     "text": [
      "Количество ненулевых элементов в обучающей выборке 1126792\n"
     ]
    }
   ],
   "source": [
    "print('Количество ненулевых элементов в обучающей выборке', train_vectors.nnz)"
   ]
  },
  {
   "cell_type": "code",
   "execution_count": 95,
   "id": "cda5a10e",
   "metadata": {},
   "outputs": [
    {
     "name": "stdout",
     "output_type": "stream",
     "text": [
      "Процент заполеннности мастрицы признаков в трейне 0.46%\n"
     ]
    }
   ],
   "source": [
    "percent = round(train_vectors.nnz * 100 / (train_vectors.shape[0] * train_vectors.shape[1]) , 2)\n",
    "print(f'Процент заполеннности мастрицы признаков в трейне {percent}%')"
   ]
  },
  {
   "cell_type": "code",
   "execution_count": 96,
   "id": "cd08fb90",
   "metadata": {},
   "outputs": [
    {
     "name": "stdout",
     "output_type": "stream",
     "text": [
      "Количество ненулевых  элементов в трейне 1126792\n"
     ]
    }
   ],
   "source": [
    "print(f'Количество ненулевых  элементов в трейне {train_vectors.nnz}')"
   ]
  },
  {
   "cell_type": "code",
   "execution_count": 97,
   "id": "f2d3b5a3",
   "metadata": {},
   "outputs": [
    {
     "name": "stdout",
     "output_type": "stream",
     "text": [
      "Процент заполеннности мастрицы признаков в трейне 0.44%\n"
     ]
    }
   ],
   "source": [
    "percent = round(test_vectors.nnz * 100 / (test_vectors.shape[0] * test_vectors.shape[1]) , 2)\n",
    "print(f'Процент заполеннности мастрицы признаков в трейне {percent}%')"
   ]
  },
  {
   "cell_type": "code",
   "execution_count": 98,
   "id": "c2e93e45",
   "metadata": {},
   "outputs": [
    {
     "data": {
      "image/png": "[encoded data removed]",
      "text/plain": [
       "<Figure size 640x480 with 1 Axes>"
      ]
     },
     "metadata": {},
     "output_type": "display_data"
    }
   ],
   "source": [
    "plt.hist(train_vectors.data, bins=20)\n",
    "plt.title('Распределение весов признаков')\n",
    "plt.yscale('log')"
   ]
  },
  {
   "cell_type": "markdown",
   "id": "f45d6000",
   "metadata": {},
   "source": [
    "# Распределение классов"
   ]
  },
  {
   "cell_type": "code",
   "execution_count": 99,
   "id": "9ff84f55",
   "metadata": {},
   "outputs": [
    {
     "name": "stdout",
     "output_type": "stream",
     "text": [
      "Количество уникальных меток 20\n"
     ]
    }
   ],
   "source": [
    "UNIQUE_LABELS_N = len(set(train_source['target']))\n",
    "\n",
    "print(f'Количество уникальных меток {UNIQUE_LABELS_N}')"
   ]
  },
  {
   "cell_type": "code",
   "execution_count": 100,
   "id": "2e39b201",
   "metadata": {},
   "outputs": [
    {
     "data": {
      "text/plain": [
       "Text(0.5, 1.0, 'Распределение меток в обучающей выборке')"
      ]
     },
     "execution_count": 100,
     "metadata": {},
     "output_type": "execute_result"
    },
    {
     "data": {
      "image/png": "[encoded data removed]",
      "text/plain": [
       "<Figure size 640x480 with 1 Axes>"
      ]
     },
     "metadata": {},
     "output_type": "display_data"
    }
   ],
   "source": [
    "plt.hist(train_source['target'], bins=np.arange(0, 21))\n",
    "plt.title('Распределение меток в обучающей выборке')"
   ]
  },
  {
   "cell_type": "code",
   "execution_count": 101,
   "id": "40c10007",
   "metadata": {},
   "outputs": [
    {
     "data": {
      "text/plain": [
       "Text(0.5, 1.0, 'Распределение меток в тестовой выборке')"
      ]
     },
     "execution_count": 101,
     "metadata": {},
     "output_type": "execute_result"
    },
    {
     "data": {
      "image/png": "[encoded data removed]",
      "text/plain": [
       "<Figure size 640x480 with 1 Axes>"
      ]
     },
     "metadata": {},
     "output_type": "display_data"
    }
   ],
   "source": [
    "plt.hist(test_source['target'], bins=np.arange(0, 21))\n",
    "plt.title('Распределение меток в тестовой выборке')"
   ]
  },
  {
   "cell_type": "code",
   "execution_count": 102,
   "id": "c4542b10",
   "metadata": {},
   "outputs": [],
   "source": [
    "from torch.utils.data import Dataset\n"
   ]
  },
  {
   "cell_type": "code",
   "execution_count": 159,
   "id": "78c72ca6",
   "metadata": {},
   "outputs": [],
   "source": [
    "class SparseFeaturesDataset(Dataset):\n",
    "\n",
    "    def __init__(self, features, targets):\n",
    "        self.features = features\n",
    "        self.targets = targets\n",
    "\n",
    "    def __len__(self):\n",
    "        return self.features.shape[0]\n",
    "    \n",
    "    def __getitem__(self, idx):\n",
    "        \"\"\"\n",
    "        Данный метод нужен так как весь датасет - это разреженная матрица, а pytorch с такими матрицами не работает.\n",
    "        \"\"\"\n",
    "        cur_features = torch.from_numpy(self.features[idx].toarray()[0]).float()\n",
    "        cur_label = torch.from_numpy(np.asarray(self.targets[idx])).long()\n",
    "        print(cur_features.size())\n",
    "        print(cur_label.size())\n",
    "        return cur_features, cur_label"
   ]
  },
  {
   "cell_type": "markdown",
   "id": "424d6edc",
   "metadata": {},
   "source": [
    "# Модель"
   ]
  },
  {
   "cell_type": "code",
   "execution_count": 160,
   "id": "9fb43f88",
   "metadata": {},
   "outputs": [],
   "source": [
    "def train_eval_loop(model: torch.nn.Module, train_dataset: torch.utils.data.Dataset, \n",
    "                    val_dataset: torch.utils.data.Dataset, criterion,\n",
    "                    lr: float = 1e-4, epoch_n: int = 10, batch_size: int = 32, \n",
    "                    device: str = 'cuda', early_stopping_patience: int = 10, l2_reg_alpha: int = 0,\n",
    "                    max_batches_per_epochs_train: int = 10000, \n",
    "                    max_batches_per_epochs_val: int = 1000,\n",
    "                    data_loader_ctor=DataLoader,\n",
    "                    optimizer_ctor=None,\n",
    "                    lr_scheduler_cror=None,\n",
    "                    shuffle_train=True):\n",
    "    \n",
    "    \"\"\"\n",
    "    Цикл обученяия модели. После каждой эпохи качество модели оценивается по отложенной выборке\n",
    "    :param model: torch.nn.Module - модель обучения,\n",
    "    :param train_dataset: torch.utils.data.Dataset - данные для обучения,\n",
    "    :param val_dataset: torch.utils.data.Dataset - данные для валидации,\n",
    "    :param criterion: функция потерб для настройки модели,\n",
    "    :param lr: float - скорость обучения,\n",
    "    :param epoch_n: int - максимальное количество эпох обучения,\n",
    "    :param batch_size: int - количество примеров, которые обрабытывает модель за одну итерацию,\n",
    "    :param device: cuda/cpu - устройство, на котором выполняется вычисление,\n",
    "    :param early_stopping_patience: наибольшее количество эпох, в течение которых допускается отсутствие улучшения модели, чтобы обучение продолжалеось,\n",
    "    :param l2_reg_alpha: коэффициент L2-регуляризации,\n",
    "    :param max_batches_per_epochs_train: int - максимальное количество итераций на одну эпоху обученния,\n",
    "    :param max_batches_per_epochs_val: int - максимальное количество итераций на одну эпоху валидации,\n",
    "\n",
    "\n",
    "\n",
    "    \"\"\"\n",
    "\n",
    "    device = torch.device(device)\n",
    "    model.to(device)\n",
    "\n",
    "    if optimizer_ctor is None:\n",
    "        optimizer = torch.optim.Adam(model.parameters(), lr=lr, weight_decay=l2_reg_alpha)\n",
    "    else:\n",
    "        optimizer = optimizer_ctor(model.parameters(), lr=lr)\n",
    "\n",
    "    if lr_scheduler_cror is not None:\n",
    "        lr_scheduler = lr_scheduler_cror(optimizer)\n",
    "    else:\n",
    "        lr_scheduler = None\n",
    "\n",
    "    train_data_loader = data_loader_ctor(train_dataset, batch_size=batch_size, shuffle=shuffle_train)\n",
    "    val_dataloader = data_loader_ctor(val_dataset, batch_size=batch_size, shuffle=shuffle_train)\n",
    "\n",
    "    best_val_loss = float('inf')\n",
    "    best_epoch_i = 0\n",
    "    best_model = copy.deepcopy(model)\n",
    "\n",
    "    for epoch_i in range(epoch_n):\n",
    "        try:\n",
    "            epoch_start = datetime.datetime.now()\n",
    "            print(f'Эпоха {epoch_i}')\n",
    "\n",
    "            model.train()\n",
    "            mean_train_loss = 0\n",
    "            train_batches_n = 0\n",
    "            for batch_i, (batch_x, batch_y) in enumerate(train_data_loader):\n",
    "                if batch_i > max_batches_per_epochs_train:\n",
    "                    break\n",
    "\n",
    "                batch_x = batch_x.to(device)\n",
    "                batch_y = batch_y.to(device)\n",
    "\n",
    "                pred = model(batch_x)\n",
    "                loss = criterion(pred, batch_y)\n",
    "\n",
    "                model.zero_grad()\n",
    "                loss.backward()\n",
    "                optimizer.step()\n",
    "\n",
    "                mean_train_loss += float(loss)\n",
    "                train_batches_n += 1\n",
    "\n",
    "            mean_train_loss /= train_batches_n\n",
    "            print(f'Эпоха {batch_i}, {(datetime.datetime.now() - epoch_start).total_seconds()}')\n",
    "            print(f'Среднее значение функции потерь {mean_train_loss}')\n",
    "\n",
    "            model.eval()\n",
    "            mean_val_loss = 0\n",
    "            val_batches_n = 0\n",
    "\n",
    "            with torch.no_grad():\n",
    "                for batch_i, (batch_x, batch_y) in enumerate(val_dataloader):\n",
    "                    if batch_i > max_batches_per_epochs_val:\n",
    "                        break\n",
    "\n",
    "                    batch_x = batch_x.to(device)\n",
    "                    batch_y = batch_y.to(device)\n",
    "\n",
    "                    pred = model(batch_x)\n",
    "                    loss = criterion(pred, batch_y)\n",
    "\n",
    "                    mean_val_loss += float(loss)\n",
    "                    val_batches_n += 1\n",
    "\n",
    "            mean_val_loss /= val_batches_n\n",
    "            print(f'Среднее значение функции потерь на валидации {mean_val_loss}')\n",
    "\n",
    "            if mean_val_loss < best_val_loss:\n",
    "                best_epoch_i = epoch_i\n",
    "                best_val_loss = mean_val_loss\n",
    "                best_model = copy.deepcopy(model)\n",
    "                print('Новая лучшая модель!')\n",
    "            elif epoch_i - best_epoch_i > early_stopping_patience:\n",
    "                print(f'Модель не улучшилась за последние {early_stopping_patience} эпох, прекращаем обучение.')\n",
    "                break\n",
    "\n",
    "            if lr_scheduler is not None:\n",
    "                lr_scheduler.step(mean_val_loss)\n",
    "\n",
    "            print()\n",
    "        except KeyboardInterrupt:\n",
    "            print('Обучение досрочно остановлено пользователем')\n",
    "            break\n",
    "        except Exception as ex:\n",
    "            print(f'Ошибка в обучении: {ex}/{traceback.format_exc()}')\n",
    "            break\n",
    "    \n",
    "    return best_val_loss, best_model\n"
   ]
  },
  {
   "cell_type": "code",
   "execution_count": 161,
   "id": "7903f5b0",
   "metadata": {},
   "outputs": [],
   "source": [
    "train_dataset = SparseFeaturesDataset(train_vectors, train_source['target'])\n",
    "test_dataset = SparseFeaturesDataset(test_vectors, test_source['target'])"
   ]
  },
  {
   "cell_type": "code",
   "execution_count": null,
   "id": "700a0392",
   "metadata": {},
   "outputs": [
    {
     "name": "stdout",
     "output_type": "stream",
     "text": [
      "torch.Size([21628])\n",
      "torch.Size([])\n",
      "torch.Size([21628])\n",
      "torch.Size([])\n"
     ]
    }
   ],
   "source": [
    "inputs = test_dataset.__getitem__(1)[0]\n",
    "output = test_dataset.__getitem__(1)[1]"
   ]
  },
  {
   "cell_type": "code",
   "execution_count": 184,
   "id": "f9866d54",
   "metadata": {},
   "outputs": [
    {
     "name": "stdout",
     "output_type": "stream",
     "text": [
      "torch.Size([1, 1])\n"
     ]
    }
   ],
   "source": [
    "model = nn.Linear(21628, 1)\n",
    "\n",
    "output = model(inputs)\n",
    "print(output.size())"
   ]
  },
  {
   "cell_type": "code",
   "execution_count": 176,
   "id": "1a228a26",
   "metadata": {},
   "outputs": [
    {
     "data": {
      "text/plain": [
       "torch.Size([])"
      ]
     },
     "execution_count": 176,
     "metadata": {},
     "output_type": "execute_result"
    }
   ],
   "source": [
    "output.size()"
   ]
  },
  {
   "cell_type": "code",
   "execution_count": 186,
   "id": "71066098",
   "metadata": {},
   "outputs": [
    {
     "name": "stdout",
     "output_type": "stream",
     "text": [
      "Эпоха 0\n",
      "torch.Size([21628])\n",
      "torch.Size([])\n",
      "torch.Size([21628])\n",
      "torch.Size([])\n",
      "torch.Size([21628])\n",
      "torch.Size([])\n",
      "torch.Size([21628])\n",
      "torch.Size([])\n",
      "torch.Size([21628])\n",
      "torch.Size([])\n",
      "torch.Size([21628])\n",
      "torch.Size([])\n",
      "torch.Size([21628])\n",
      "torch.Size([])\n",
      "torch.Size([21628])\n",
      "torch.Size([])\n",
      "torch.Size([21628])\n",
      "torch.Size([])\n",
      "torch.Size([21628])\n",
      "torch.Size([])\n",
      "torch.Size([21628])\n",
      "torch.Size([])\n",
      "torch.Size([21628])\n",
      "torch.Size([])\n",
      "torch.Size([21628])\n",
      "torch.Size([])\n",
      "torch.Size([21628])\n",
      "torch.Size([])\n",
      "torch.Size([21628])\n",
      "torch.Size([])\n",
      "torch.Size([21628])\n",
      "torch.Size([])\n",
      "torch.Size([21628])\n",
      "torch.Size([])\n",
      "torch.Size([21628])\n",
      "torch.Size([])\n",
      "torch.Size([21628])\n",
      "torch.Size([])\n",
      "torch.Size([21628])\n",
      "torch.Size([])\n",
      "torch.Size([21628])\n",
      "torch.Size([])\n",
      "torch.Size([21628])\n",
      "torch.Size([])\n",
      "torch.Size([21628])\n",
      "torch.Size([])\n",
      "torch.Size([21628])\n",
      "torch.Size([])\n",
      "torch.Size([21628])\n",
      "torch.Size([])\n",
      "torch.Size([21628])\n",
      "torch.Size([])\n",
      "torch.Size([21628])\n",
      "torch.Size([])\n",
      "torch.Size([21628])\n",
      "torch.Size([])\n",
      "torch.Size([21628])\n",
      "torch.Size([])\n",
      "torch.Size([21628])\n",
      "torch.Size([])\n",
      "torch.Size([21628])\n",
      "torch.Size([])\n",
      "torch.Size([21628])\n",
      "torch.Size([])\n",
      "Ошибка в обучении: mat1 and mat2 shapes cannot be multiplied (32x21628 and 32x6)/Traceback (most recent call last):\n",
      "  File \"C:\\Users\\egortat\\AppData\\Local\\Temp\\ipykernel_9156\\866044192.py\", line 66, in train_eval_loop\n",
      "    pred = model(batch_x)\n",
      "  File \"c:\\Users\\egortat\\Documents\\text_classification\\venv\\Lib\\site-packages\\torch\\nn\\modules\\module.py\", line 1751, in _wrapped_call_impl\n",
      "    return self._call_impl(*args, **kwargs)\n",
      "           ~~~~~~~~~~~~~~~^^^^^^^^^^^^^^^^^\n",
      "  File \"c:\\Users\\egortat\\Documents\\text_classification\\venv\\Lib\\site-packages\\torch\\nn\\modules\\module.py\", line 1762, in _call_impl\n",
      "    return forward_call(*args, **kwargs)\n",
      "  File \"c:\\Users\\egortat\\Documents\\text_classification\\venv\\Lib\\site-packages\\torch\\nn\\modules\\linear.py\", line 125, in forward\n",
      "    return F.linear(input, self.weight, self.bias)\n",
      "           ~~~~~~~~^^^^^^^^^^^^^^^^^^^^^^^^^^^^^^^\n",
      "RuntimeError: mat1 and mat2 shapes cannot be multiplied (32x21628 and 32x6)\n",
      "\n"
     ]
    }
   ],
   "source": [
    "batch_size = 32\n",
    "model = nn.Linear(32, UNIQUE_WORDS_N, 1)\n",
    "\n",
    "def lr_scheduler(optim):\n",
    "    return torch.optim.lr_scheduler.ReduceLROnPlateau(optim, patience=5, factor=0.5)\n",
    "\n",
    "\n",
    "best_val_loss, best_model = train_eval_loop(model=model, \n",
    "                                            train_dataset=train_dataset, \n",
    "                                            val_dataset=test_dataset,\n",
    "                                            criterion=F.cross_entropy,\n",
    "                                            lr=1e-1,\n",
    "                                            epoch_n=200,\n",
    "                                            batch_size=32,\n",
    "                                            l2_reg_alpha=0,\n",
    "                                            lr_scheduler_cror=lr_scheduler)\n",
    "\n"
   ]
  },
  {
   "cell_type": "code",
   "execution_count": null,
   "id": "a2598053",
   "metadata": {},
   "outputs": [],
   "source": [
    "def predict_with_model(model: torch.nn.Module, \n",
    "                       dataset: torch.utils.data.Dataset, \n",
    "                       device: str ='cuda', batch_size: int = 32):\n",
    "    \"\"\"\n",
    "    :param model: torch.nn.Module - обученная модель,\n",
    "    :param dataset: torch.utils.data.Dataset - данные для применения модели,\n",
    "    :param device: str - cuda/cpu - устройство, на котором выполняется вычисление,\n",
    "    :param batch_size: int - количество примеров, обрабатываемых моделью за одну имтерацию,\n",
    "    :return: numpy.array размерности len(dataset)\n",
    "    \"\"\"\n",
    "    results_by_batch = []\n",
    "\n",
    "    device = torch.device(device)\n",
    "    model.to(device)\n",
    "    model.eval()\n",
    "\n",
    "    dataloader = DataLoader(dataset, batch_size, shuffle=False)\n",
    "    with torch.no_grad():\n",
    "        for batch_x, batch_y in dataloader:\n",
    "            batch_x = batch_x.to(device)\n",
    "\n",
    "            batch_pred = model(batch_x)\n",
    "            results_by_batch.append(batch_pred.detach().cpu().numpy())\n",
    "\n",
    "    return np.concatenate(results_by_batch, 0)"
   ]
  },
  {
   "cell_type": "markdown",
   "id": "5f6b4f5f",
   "metadata": {},
   "source": [
    "# Оценка качества"
   ]
  },
  {
   "cell_type": "code",
   "execution_count": null,
   "id": "35ea7afd",
   "metadata": {},
   "outputs": [],
   "source": [
    "train_pred = predict_with_model(best_model, train_dataset)\n",
    "train_loss = F.cross_entropy(torch.from_numpy(train_pred),\n",
    "                             torch.from_numpy(train_source['target']))\n",
    "print(f'Среднее значение функции потерь на обучении {float(train_loss)}')\n",
    "print(f'Доля верных ответов {accuracy_score(train_source['target'],\n",
    "                                            train_pred.argmax(-1))}')\n",
    "print('--------------------------------------------------------------')\n",
    "test_pred = predict_with_model(best_model, test_dataset)\n",
    "test_loss = F.cross_entropy(torch.from_numpy(test_pred), \n",
    "                            torch.from_numpy(test_source['target']))\n",
    "print(f'Среднее значение функции потерь на валидации {float(test_loss)}')\n",
    "print(f'Доля верных ответов {accuracy_score(test_source['target'], test_pred.argmax(-1))}')"
   ]
  },
  {
   "cell_type": "markdown",
   "id": "635e1b87",
   "metadata": {},
   "source": [
    "# Альтернативная реализация на scikit-learn"
   ]
  },
  {
   "cell_type": "code",
   "execution_count": 188,
   "id": "b5d94cbf",
   "metadata": {},
   "outputs": [],
   "source": [
    "from sklearn.feature_extraction.text import TfidfVectorizer\n",
    "from sklearn.pipeline import Pipeline\n",
    "from sklearn.linear_model import LogisticRegression"
   ]
  },
  {
   "cell_type": "code",
   "execution_count": 193,
   "id": "023f1726",
   "metadata": {},
   "outputs": [],
   "source": [
    "MAX_DF = 0.8\n",
    "MIN_COUNT = 5\n",
    "\n",
    "sklearn_pipeline = Pipeline((('vect', TfidfVectorizer(tokenizer=tokenize_text_simpleregex,\n",
    "                                                      max_df=MAX_DF,\n",
    "                                                      min_df=MIN_COUNT)),\n",
    "                            ('cls', LogisticRegression())))\n"
   ]
  },
  {
   "cell_type": "code",
   "execution_count": 194,
   "id": "cdd72fe2",
   "metadata": {},
   "outputs": [
    {
     "ename": "ValueError",
     "evalue": "Found input variables with inconsistent numbers of samples: [7532, 11314]",
     "output_type": "error",
     "traceback": [
      "\u001b[31m---------------------------------------------------------------------------\u001b[39m",
      "\u001b[31mValueError\u001b[39m                                Traceback (most recent call last)",
      "\u001b[36mCell\u001b[39m\u001b[36m \u001b[39m\u001b[32mIn[194]\u001b[39m\u001b[32m, line 1\u001b[39m\n\u001b[32m----> \u001b[39m\u001b[32m1\u001b[39m \u001b[43msklearn_pipeline\u001b[49m\u001b[43m.\u001b[49m\u001b[43mfit\u001b[49m\u001b[43m(\u001b[49m\u001b[43mtest_source\u001b[49m\u001b[43m[\u001b[49m\u001b[33;43m'\u001b[39;49m\u001b[33;43mdata\u001b[39;49m\u001b[33;43m'\u001b[39;49m\u001b[43m]\u001b[49m\u001b[43m,\u001b[49m\u001b[43m \u001b[49m\u001b[43mtrain_source\u001b[49m\u001b[43m[\u001b[49m\u001b[33;43m'\u001b[39;49m\u001b[33;43mtarget\u001b[39;49m\u001b[33;43m'\u001b[39;49m\u001b[43m]\u001b[49m\u001b[43m)\u001b[49m\n",
      "\u001b[36mFile \u001b[39m\u001b[32mc:\\Users\\egortat\\Documents\\text_classification\\venv\\Lib\\site-packages\\sklearn\\base.py:1365\u001b[39m, in \u001b[36m_fit_context.<locals>.decorator.<locals>.wrapper\u001b[39m\u001b[34m(estimator, *args, **kwargs)\u001b[39m\n\u001b[32m   1358\u001b[39m     estimator._validate_params()\n\u001b[32m   1360\u001b[39m \u001b[38;5;28;01mwith\u001b[39;00m config_context(\n\u001b[32m   1361\u001b[39m     skip_parameter_validation=(\n\u001b[32m   1362\u001b[39m         prefer_skip_nested_validation \u001b[38;5;129;01mor\u001b[39;00m global_skip_validation\n\u001b[32m   1363\u001b[39m     )\n\u001b[32m   1364\u001b[39m ):\n\u001b[32m-> \u001b[39m\u001b[32m1365\u001b[39m     \u001b[38;5;28;01mreturn\u001b[39;00m \u001b[43mfit_method\u001b[49m\u001b[43m(\u001b[49m\u001b[43mestimator\u001b[49m\u001b[43m,\u001b[49m\u001b[43m \u001b[49m\u001b[43m*\u001b[49m\u001b[43margs\u001b[49m\u001b[43m,\u001b[49m\u001b[43m \u001b[49m\u001b[43m*\u001b[49m\u001b[43m*\u001b[49m\u001b[43mkwargs\u001b[49m\u001b[43m)\u001b[49m\n",
      "\u001b[36mFile \u001b[39m\u001b[32mc:\\Users\\egortat\\Documents\\text_classification\\venv\\Lib\\site-packages\\sklearn\\pipeline.py:663\u001b[39m, in \u001b[36mPipeline.fit\u001b[39m\u001b[34m(self, X, y, **params)\u001b[39m\n\u001b[32m    657\u001b[39m     \u001b[38;5;28;01mif\u001b[39;00m \u001b[38;5;28mself\u001b[39m._final_estimator != \u001b[33m\"\u001b[39m\u001b[33mpassthrough\u001b[39m\u001b[33m\"\u001b[39m:\n\u001b[32m    658\u001b[39m         last_step_params = \u001b[38;5;28mself\u001b[39m._get_metadata_for_step(\n\u001b[32m    659\u001b[39m             step_idx=\u001b[38;5;28mlen\u001b[39m(\u001b[38;5;28mself\u001b[39m) - \u001b[32m1\u001b[39m,\n\u001b[32m    660\u001b[39m             step_params=routed_params[\u001b[38;5;28mself\u001b[39m.steps[-\u001b[32m1\u001b[39m][\u001b[32m0\u001b[39m]],\n\u001b[32m    661\u001b[39m             all_params=params,\n\u001b[32m    662\u001b[39m         )\n\u001b[32m--> \u001b[39m\u001b[32m663\u001b[39m         \u001b[38;5;28;43mself\u001b[39;49m\u001b[43m.\u001b[49m\u001b[43m_final_estimator\u001b[49m\u001b[43m.\u001b[49m\u001b[43mfit\u001b[49m\u001b[43m(\u001b[49m\u001b[43mXt\u001b[49m\u001b[43m,\u001b[49m\u001b[43m \u001b[49m\u001b[43my\u001b[49m\u001b[43m,\u001b[49m\u001b[43m \u001b[49m\u001b[43m*\u001b[49m\u001b[43m*\u001b[49m\u001b[43mlast_step_params\u001b[49m\u001b[43m[\u001b[49m\u001b[33;43m\"\u001b[39;49m\u001b[33;43mfit\u001b[39;49m\u001b[33;43m\"\u001b[39;49m\u001b[43m]\u001b[49m\u001b[43m)\u001b[49m\n\u001b[32m    665\u001b[39m \u001b[38;5;28;01mreturn\u001b[39;00m \u001b[38;5;28mself\u001b[39m\n",
      "\u001b[36mFile \u001b[39m\u001b[32mc:\\Users\\egortat\\Documents\\text_classification\\venv\\Lib\\site-packages\\sklearn\\base.py:1365\u001b[39m, in \u001b[36m_fit_context.<locals>.decorator.<locals>.wrapper\u001b[39m\u001b[34m(estimator, *args, **kwargs)\u001b[39m\n\u001b[32m   1358\u001b[39m     estimator._validate_params()\n\u001b[32m   1360\u001b[39m \u001b[38;5;28;01mwith\u001b[39;00m config_context(\n\u001b[32m   1361\u001b[39m     skip_parameter_validation=(\n\u001b[32m   1362\u001b[39m         prefer_skip_nested_validation \u001b[38;5;129;01mor\u001b[39;00m global_skip_validation\n\u001b[32m   1363\u001b[39m     )\n\u001b[32m   1364\u001b[39m ):\n\u001b[32m-> \u001b[39m\u001b[32m1365\u001b[39m     \u001b[38;5;28;01mreturn\u001b[39;00m \u001b[43mfit_method\u001b[49m\u001b[43m(\u001b[49m\u001b[43mestimator\u001b[49m\u001b[43m,\u001b[49m\u001b[43m \u001b[49m\u001b[43m*\u001b[49m\u001b[43margs\u001b[49m\u001b[43m,\u001b[49m\u001b[43m \u001b[49m\u001b[43m*\u001b[49m\u001b[43m*\u001b[49m\u001b[43mkwargs\u001b[49m\u001b[43m)\u001b[49m\n",
      "\u001b[36mFile \u001b[39m\u001b[32mc:\\Users\\egortat\\Documents\\text_classification\\venv\\Lib\\site-packages\\sklearn\\linear_model\\_logistic.py:1247\u001b[39m, in \u001b[36mLogisticRegression.fit\u001b[39m\u001b[34m(self, X, y, sample_weight)\u001b[39m\n\u001b[32m   1244\u001b[39m \u001b[38;5;28;01melse\u001b[39;00m:\n\u001b[32m   1245\u001b[39m     _dtype = [np.float64, np.float32]\n\u001b[32m-> \u001b[39m\u001b[32m1247\u001b[39m X, y = \u001b[43mvalidate_data\u001b[49m\u001b[43m(\u001b[49m\n\u001b[32m   1248\u001b[39m \u001b[43m    \u001b[49m\u001b[38;5;28;43mself\u001b[39;49m\u001b[43m,\u001b[49m\n\u001b[32m   1249\u001b[39m \u001b[43m    \u001b[49m\u001b[43mX\u001b[49m\u001b[43m,\u001b[49m\n\u001b[32m   1250\u001b[39m \u001b[43m    \u001b[49m\u001b[43my\u001b[49m\u001b[43m,\u001b[49m\n\u001b[32m   1251\u001b[39m \u001b[43m    \u001b[49m\u001b[43maccept_sparse\u001b[49m\u001b[43m=\u001b[49m\u001b[33;43m\"\u001b[39;49m\u001b[33;43mcsr\u001b[39;49m\u001b[33;43m\"\u001b[39;49m\u001b[43m,\u001b[49m\n\u001b[32m   1252\u001b[39m \u001b[43m    \u001b[49m\u001b[43mdtype\u001b[49m\u001b[43m=\u001b[49m\u001b[43m_dtype\u001b[49m\u001b[43m,\u001b[49m\n\u001b[32m   1253\u001b[39m \u001b[43m    \u001b[49m\u001b[43morder\u001b[49m\u001b[43m=\u001b[49m\u001b[33;43m\"\u001b[39;49m\u001b[33;43mC\u001b[39;49m\u001b[33;43m\"\u001b[39;49m\u001b[43m,\u001b[49m\n\u001b[32m   1254\u001b[39m \u001b[43m    \u001b[49m\u001b[43maccept_large_sparse\u001b[49m\u001b[43m=\u001b[49m\u001b[43msolver\u001b[49m\u001b[43m \u001b[49m\u001b[38;5;129;43;01mnot\u001b[39;49;00m\u001b[43m \u001b[49m\u001b[38;5;129;43;01min\u001b[39;49;00m\u001b[43m \u001b[49m\u001b[43m[\u001b[49m\u001b[33;43m\"\u001b[39;49m\u001b[33;43mliblinear\u001b[39;49m\u001b[33;43m\"\u001b[39;49m\u001b[43m,\u001b[49m\u001b[43m \u001b[49m\u001b[33;43m\"\u001b[39;49m\u001b[33;43msag\u001b[39;49m\u001b[33;43m\"\u001b[39;49m\u001b[43m,\u001b[49m\u001b[43m \u001b[49m\u001b[33;43m\"\u001b[39;49m\u001b[33;43msaga\u001b[39;49m\u001b[33;43m\"\u001b[39;49m\u001b[43m]\u001b[49m\u001b[43m,\u001b[49m\n\u001b[32m   1255\u001b[39m \u001b[43m\u001b[49m\u001b[43m)\u001b[49m\n\u001b[32m   1256\u001b[39m check_classification_targets(y)\n\u001b[32m   1257\u001b[39m \u001b[38;5;28mself\u001b[39m.classes_ = np.unique(y)\n",
      "\u001b[36mFile \u001b[39m\u001b[32mc:\\Users\\egortat\\Documents\\text_classification\\venv\\Lib\\site-packages\\sklearn\\utils\\validation.py:2971\u001b[39m, in \u001b[36mvalidate_data\u001b[39m\u001b[34m(_estimator, X, y, reset, validate_separately, skip_check_array, **check_params)\u001b[39m\n\u001b[32m   2969\u001b[39m         y = check_array(y, input_name=\u001b[33m\"\u001b[39m\u001b[33my\u001b[39m\u001b[33m\"\u001b[39m, **check_y_params)\n\u001b[32m   2970\u001b[39m     \u001b[38;5;28;01melse\u001b[39;00m:\n\u001b[32m-> \u001b[39m\u001b[32m2971\u001b[39m         X, y = \u001b[43mcheck_X_y\u001b[49m\u001b[43m(\u001b[49m\u001b[43mX\u001b[49m\u001b[43m,\u001b[49m\u001b[43m \u001b[49m\u001b[43my\u001b[49m\u001b[43m,\u001b[49m\u001b[43m \u001b[49m\u001b[43m*\u001b[49m\u001b[43m*\u001b[49m\u001b[43mcheck_params\u001b[49m\u001b[43m)\u001b[49m\n\u001b[32m   2972\u001b[39m     out = X, y\n\u001b[32m   2974\u001b[39m \u001b[38;5;28;01mif\u001b[39;00m \u001b[38;5;129;01mnot\u001b[39;00m no_val_X \u001b[38;5;129;01mand\u001b[39;00m check_params.get(\u001b[33m\"\u001b[39m\u001b[33mensure_2d\u001b[39m\u001b[33m\"\u001b[39m, \u001b[38;5;28;01mTrue\u001b[39;00m):\n",
      "\u001b[36mFile \u001b[39m\u001b[32mc:\\Users\\egortat\\Documents\\text_classification\\venv\\Lib\\site-packages\\sklearn\\utils\\validation.py:1387\u001b[39m, in \u001b[36mcheck_X_y\u001b[39m\u001b[34m(X, y, accept_sparse, accept_large_sparse, dtype, order, copy, force_writeable, force_all_finite, ensure_all_finite, ensure_2d, allow_nd, multi_output, ensure_min_samples, ensure_min_features, y_numeric, estimator)\u001b[39m\n\u001b[32m   1368\u001b[39m X = check_array(\n\u001b[32m   1369\u001b[39m     X,\n\u001b[32m   1370\u001b[39m     accept_sparse=accept_sparse,\n\u001b[32m   (...)\u001b[39m\u001b[32m   1382\u001b[39m     input_name=\u001b[33m\"\u001b[39m\u001b[33mX\u001b[39m\u001b[33m\"\u001b[39m,\n\u001b[32m   1383\u001b[39m )\n\u001b[32m   1385\u001b[39m y = _check_y(y, multi_output=multi_output, y_numeric=y_numeric, estimator=estimator)\n\u001b[32m-> \u001b[39m\u001b[32m1387\u001b[39m \u001b[43mcheck_consistent_length\u001b[49m\u001b[43m(\u001b[49m\u001b[43mX\u001b[49m\u001b[43m,\u001b[49m\u001b[43m \u001b[49m\u001b[43my\u001b[49m\u001b[43m)\u001b[49m\n\u001b[32m   1389\u001b[39m \u001b[38;5;28;01mreturn\u001b[39;00m X, y\n",
      "\u001b[36mFile \u001b[39m\u001b[32mc:\\Users\\egortat\\Documents\\text_classification\\venv\\Lib\\site-packages\\sklearn\\utils\\validation.py:473\u001b[39m, in \u001b[36mcheck_consistent_length\u001b[39m\u001b[34m(*arrays)\u001b[39m\n\u001b[32m    471\u001b[39m lengths = [_num_samples(X) \u001b[38;5;28;01mfor\u001b[39;00m X \u001b[38;5;129;01min\u001b[39;00m arrays \u001b[38;5;28;01mif\u001b[39;00m X \u001b[38;5;129;01mis\u001b[39;00m \u001b[38;5;129;01mnot\u001b[39;00m \u001b[38;5;28;01mNone\u001b[39;00m]\n\u001b[32m    472\u001b[39m \u001b[38;5;28;01mif\u001b[39;00m \u001b[38;5;28mlen\u001b[39m(\u001b[38;5;28mset\u001b[39m(lengths)) > \u001b[32m1\u001b[39m:\n\u001b[32m--> \u001b[39m\u001b[32m473\u001b[39m     \u001b[38;5;28;01mraise\u001b[39;00m \u001b[38;5;167;01mValueError\u001b[39;00m(\n\u001b[32m    474\u001b[39m         \u001b[33m\"\u001b[39m\u001b[33mFound input variables with inconsistent numbers of samples: \u001b[39m\u001b[38;5;132;01m%r\u001b[39;00m\u001b[33m\"\u001b[39m\n\u001b[32m    475\u001b[39m         % [\u001b[38;5;28mint\u001b[39m(l) \u001b[38;5;28;01mfor\u001b[39;00m l \u001b[38;5;129;01min\u001b[39;00m lengths]\n\u001b[32m    476\u001b[39m     )\n",
      "\u001b[31mValueError\u001b[39m: Found input variables with inconsistent numbers of samples: [7532, 11314]"
     ]
    }
   ],
   "source": [
    "sklearn_pipeline.fit(test_source['data'], train_source['target'])"
   ]
  },
  {
   "cell_type": "markdown",
   "id": "cd0e159a",
   "metadata": {},
   "source": [
    "# Оценка качества"
   ]
  },
  {
   "cell_type": "code",
   "execution_count": null,
   "id": "7f67de1c",
   "metadata": {},
   "outputs": [],
   "source": [
    "sklearn_train_pred = sklearn_pipeline.predict_proba(train_source['data'])\n",
    "sklearn_train_loss = F.cross_entropy(torch.from_numpy(sklearn_train_pred), \n",
    "                                     torch.from_numpy(train_source['target']))\n",
    "print(f'Среднее знаение функции потерь на обучении {float(sklearn_train_loss)}')\n",
    "print(f'Доля верных ответов {accuracy_score(train_source['target'], sklearn_train_pred.argmax(-1))}')\n",
    "print('------------------------------------------------------------------------------------')\n",
    "\n",
    "sklearn_test_pred = sklearn_pipeline.predict_proba(test_source['data'])\n",
    "sklearn_test_loss = F.cross_entropy(torch.from_numpy(sklearn_test_pred),\n",
    "                                    torch.from_numpy(test_source['target']))\n",
    "print(f'Среднее значение функции потерь на валидации {float(sklearn_test_loss)}')\n",
    "print(f'Доля верных ответов {accuracy_score(test_source['target'], sklearn_test_pred(-1))}')\n"
   ]
  },
  {
   "cell_type": "code",
   "execution_count": 177,
   "id": "fc4608c7",
   "metadata": {},
   "outputs": [
    {
     "name": "stdout",
     "output_type": "stream",
     "text": [
      "torch.Size([128, 30])\n"
     ]
    }
   ],
   "source": [
    "m = nn.Linear(20, 30)\n",
    "input = torch.randn(128, 20)\n",
    "output = m(input)\n",
    "print(output.size())"
   ]
  },
  {
   "cell_type": "code",
   "execution_count": 179,
   "id": "63b053eb",
   "metadata": {},
   "outputs": [
    {
     "data": {
      "text/plain": [
       "torch.Size([128, 20])"
      ]
     },
     "execution_count": 179,
     "metadata": {},
     "output_type": "execute_result"
    }
   ],
   "source": [
    "input.size()"
   ]
  }
 ],
 "metadata": {
  "kernelspec": {
   "display_name": "venv",
   "language": "python",
   "name": "python3"
  },
  "language_info": {
   "codemirror_mode": {
    "name": "ipython",
    "version": 3
   },
   "file_extension": ".py",
   "mimetype": "text/x-python",
   "name": "python",
   "nbconvert_exporter": "python",
   "pygments_lexer": "ipython3",
   "version": "3.13.5"
  }
 },
 "nbformat": 4,
 "nbformat_minor": 5
}
